{
 "cells": [
  {
   "cell_type": "markdown",
   "metadata": {},
   "source": [
    "# Fibonacci Triples in Markov's equation"
   ]
  },
  {
   "cell_type": "markdown",
   "metadata": {},
   "source": [
    "This Python notebook was used to provide a table for Corollary 2.2 and check Lemma 4.9.\n",
    "\n",
    "To remember:\n",
    "> __*Lemma 4.9*__. Let $m>0$. Let $(F(a), F(b), F(c))$ and $(F(a'),F(b'),F(c'))$ be two ordered minimal m-Markoff triples such that $c'=c-1$. If $c\\ge 11$, then $(a,a')\\ne (2,2)$.\n",
    "\n",
    "In Corollary 2.2, we decided to generate a table with lower and upper bounds for the ratio $\\frac{F(n)}{F(n+a)}$ given a certain $a$ and $N$ such as $n\\ge N$. This would be useful for other sections in the paper, especially Lemma 4.9.\n",
    "\n",
    "In Lemma 4.9, at one point during the proof we found that it was necessary to compare certain expressions that contained ratios as in Corollary 2.2."
   ]
  },
  {
   "cell_type": "markdown",
   "metadata": {},
   "source": [
    "### Libraries"
   ]
  },
  {
   "cell_type": "code",
   "execution_count": 2,
   "metadata": {},
   "outputs": [],
   "source": [
    "from sympy import init_session\n",
    "import matplotlib.pyplot as plt\n",
    "import pandas as pd\n",
    "\n",
    "import warnings\n",
    "warnings.filterwarnings(\"ignore\")"
   ]
  },
  {
   "cell_type": "markdown",
   "metadata": {},
   "source": [
    "### SymPy initialization"
   ]
  },
  {
   "cell_type": "code",
   "execution_count": 3,
   "metadata": {},
   "outputs": [
    {
     "name": "stdout",
     "output_type": "stream",
     "text": [
      "\n"
     ]
    }
   ],
   "source": [
    "init_session(use_latex=True, quiet=True)"
   ]
  },
  {
   "cell_type": "markdown",
   "metadata": {},
   "source": [
    "### Fibonacci numbers"
   ]
  },
  {
   "cell_type": "code",
   "execution_count": 5,
   "metadata": {},
   "outputs": [
    {
     "data": {
      "image/png": "[encoded data removed]",
      "text/latex": [
       "$\\displaystyle 0.5 + 0.5 \\sqrt{5}$"
      ],
      "text/plain": [
       "0.5 + 0.5⋅√5"
      ]
     },
     "execution_count": 5,
     "metadata": {},
     "output_type": "execute_result"
    }
   ],
   "source": [
    "phi = 1/2 * (1 + sqrt(5))\n",
    "phi_ = -1/phi\n",
    "phi"
   ]
  },
  {
   "cell_type": "code",
   "execution_count": 6,
   "metadata": {},
   "outputs": [],
   "source": [
    "# Binary Exponentiation and calculating nth Fibonacci number\n",
    "def binary_exp(a: int | float, b: int) -> int | float:\n",
    "    '''\n",
    "    This function calculates a raised to the power b using binary exponentiation.\n",
    "\n",
    "    Parameters:\n",
    "    - a: int|float\n",
    "    - b: int\n",
    "\n",
    "    Returns:\n",
    "    - int/float\n",
    "    '''\n",
    "    if b==0:\n",
    "        return 1\n",
    "    \n",
    "    if b<0:\n",
    "        a = 1/a\n",
    "        b = -b\n",
    "        \n",
    "    out_ = binary_exp(a,b//2)\n",
    "    out_ = out_ * out_\n",
    "    \n",
    "    if b%2 !=0 :\n",
    "        out_ = out_ * a\n",
    "    \n",
    "    return out_\n",
    "\n",
    "def fib(n: int) -> int:\n",
    "    '''\n",
    "    This function calculates the nth Fibonacci number using the formula:\n",
    "    F(n) = (phi^n - phi_^n) / sqrt(5)\n",
    "\n",
    "    Parameters:\n",
    "    - n: int\n",
    "\n",
    "    Returns:\n",
    "    - int\n",
    "    '''\n",
    "    return (binary_exp(phi,n) - binary_exp(phi_,n)) / sqrt(5)\n"
   ]
  },
  {
   "cell_type": "markdown",
   "metadata": {},
   "source": [
    "### Corollary 2.2: Fib(n) / Fib(n+a)"
   ]
  },
  {
   "cell_type": "code",
   "execution_count": 7,
   "metadata": {},
   "outputs": [],
   "source": [
    "# Calculate bounds\n",
    "\n",
    "def cocient_fib_bounds(N: int, a: int) -> tuple[float, float]:\n",
    "    '''\n",
    "    This function calculates the upper and lower bounds of the ratio \n",
    "    of fib(n)/fib(n+a) for n>=N, according to Lemma 2.1.\n",
    "    \n",
    "    Parameters:\n",
    "    - N: int\n",
    "    - a: int\n",
    "\n",
    "    Returns:\n",
    "    - tuple[float, float]\n",
    "    '''\n",
    "    bound = fib(N)/fib(N+a)\n",
    "    bound2 = fib(N+1)/fib(N+a+1)\n",
    "\n",
    "    upper_bound = max(bound, bound2)\n",
    "    lower_bound = min(bound, bound2)\n",
    "\n",
    "    return upper_bound, lower_bound\n"
   ]
  },
  {
   "cell_type": "code",
   "execution_count": 9,
   "metadata": {},
   "outputs": [],
   "source": [
    "# Plot bounds\n",
    "\n",
    "def plot_cocient_fib(N: int, a: int, k: float, K: float) -> None:\n",
    "    '''\n",
    "    This function plots the ratio of fib(n)/fib(n+a) and the upper\n",
    "    and lower bounds calculated with the function cocient_fib_bounds().\n",
    "\n",
    "    Parameters:\n",
    "    - N: int\n",
    "    - a: int\n",
    "    - k: float\n",
    "    - K: float\n",
    "\n",
    "    Returns:\n",
    "    - None\n",
    "    '''\n",
    "    x = range(1,4*N+1)\n",
    "    y = [fib(n)/fib(n+a) for n in x]\n",
    "    plt.plot(x,y)\n",
    "    plt.plot(x[2], y[2], 'ro')\n",
    "    plt.plot(x[3], y[3], 'ro')\n",
    "    plt.plot(x, [phi**(-a) for _ in x], 'g--', label='phi^(-a)')\n",
    "    plt.plot(x, [k for _ in x], 'b--', label=f'lower bound for n>={N}')\n",
    "    plt.plot(x, [K for _ in x], 'r--', label=f'upper bound for n>={N}')\n",
    "    plt.xlabel('n')\n",
    "    plt.ylabel(f'fib(n)/fib(n+{a})')\n",
    "    plt.legend()\n",
    "    plt.show()\n"
   ]
  },
  {
   "cell_type": "code",
   "execution_count": 11,
   "metadata": {},
   "outputs": [
    {
     "data": {
      "text/html": [
       "<div>\n",
       "<style scoped>\n",
       "    .dataframe tbody tr th:only-of-type {\n",
       "        vertical-align: middle;\n",
       "    }\n",
       "\n",
       "    .dataframe tbody tr th {\n",
       "        vertical-align: top;\n",
       "    }\n",
       "\n",
       "    .dataframe thead th {\n",
       "        text-align: right;\n",
       "    }\n",
       "</style>\n",
       "<table border=\"1\" class=\"dataframe\">\n",
       "  <thead>\n",
       "    <tr style=\"text-align: right;\">\n",
       "      <th></th>\n",
       "      <th>a</th>\n",
       "      <th>N</th>\n",
       "      <th>k</th>\n",
       "      <th>K</th>\n",
       "    </tr>\n",
       "  </thead>\n",
       "  <tbody>\n",
       "    <tr>\n",
       "      <th>0</th>\n",
       "      <td>1</td>\n",
       "      <td>1</td>\n",
       "      <td>0.5000</td>\n",
       "      <td>1.000</td>\n",
       "    </tr>\n",
       "    <tr>\n",
       "      <th>1</th>\n",
       "      <td>1</td>\n",
       "      <td>2</td>\n",
       "      <td>0.5000</td>\n",
       "      <td>0.6667</td>\n",
       "    </tr>\n",
       "    <tr>\n",
       "      <th>2</th>\n",
       "      <td>1</td>\n",
       "      <td>3</td>\n",
       "      <td>0.6000</td>\n",
       "      <td>0.6667</td>\n",
       "    </tr>\n",
       "    <tr>\n",
       "      <th>3</th>\n",
       "      <td>1</td>\n",
       "      <td>4</td>\n",
       "      <td>0.6000</td>\n",
       "      <td>0.6250</td>\n",
       "    </tr>\n",
       "    <tr>\n",
       "      <th>4</th>\n",
       "      <td>1</td>\n",
       "      <td>5</td>\n",
       "      <td>0.6154</td>\n",
       "      <td>0.6250</td>\n",
       "    </tr>\n",
       "    <tr>\n",
       "      <th>...</th>\n",
       "      <td>...</td>\n",
       "      <td>...</td>\n",
       "      <td>...</td>\n",
       "      <td>...</td>\n",
       "    </tr>\n",
       "    <tr>\n",
       "      <th>85</th>\n",
       "      <td>9</td>\n",
       "      <td>6</td>\n",
       "      <td>0.01311</td>\n",
       "      <td>0.01317</td>\n",
       "    </tr>\n",
       "    <tr>\n",
       "      <th>86</th>\n",
       "      <td>9</td>\n",
       "      <td>7</td>\n",
       "      <td>0.01315</td>\n",
       "      <td>0.01317</td>\n",
       "    </tr>\n",
       "    <tr>\n",
       "      <th>87</th>\n",
       "      <td>9</td>\n",
       "      <td>8</td>\n",
       "      <td>0.01315</td>\n",
       "      <td>0.01316</td>\n",
       "    </tr>\n",
       "    <tr>\n",
       "      <th>88</th>\n",
       "      <td>9</td>\n",
       "      <td>9</td>\n",
       "      <td>0.01315</td>\n",
       "      <td>0.01316</td>\n",
       "    </tr>\n",
       "    <tr>\n",
       "      <th>89</th>\n",
       "      <td>9</td>\n",
       "      <td>10</td>\n",
       "      <td>0.01315</td>\n",
       "      <td>0.01316</td>\n",
       "    </tr>\n",
       "  </tbody>\n",
       "</table>\n",
       "<p>90 rows × 4 columns</p>\n",
       "</div>"
      ],
      "text/plain": [
       "    a   N        k        K\n",
       "0   1   1   0.5000    1.000\n",
       "1   1   2   0.5000   0.6667\n",
       "2   1   3   0.6000   0.6667\n",
       "3   1   4   0.6000   0.6250\n",
       "4   1   5   0.6154   0.6250\n",
       ".. ..  ..      ...      ...\n",
       "85  9   6  0.01311  0.01317\n",
       "86  9   7  0.01315  0.01317\n",
       "87  9   8  0.01315  0.01316\n",
       "88  9   9  0.01315  0.01316\n",
       "89  9  10  0.01315  0.01316\n",
       "\n",
       "[90 rows x 4 columns]"
      ]
     },
     "execution_count": 11,
     "metadata": {},
     "output_type": "execute_result"
    }
   ],
   "source": [
    "# Table of bounds (this cell takes about 45 seconds to create the table with 20 values of a and 100 values of N)\n",
    "\n",
    "def table_bounds(path: str = '../docs/bounds.csv') -> pd.DataFrame:\n",
    "    '''\n",
    "    This function creates a table of the upper and lower bounds of the ratio of fib(n)/fib(n+a) for n>=N.\n",
    "\n",
    "    Parameters:\n",
    "    - None\n",
    "\n",
    "    Returns:\n",
    "    - pd.DataFrame\n",
    "    '''\n",
    "\n",
    "    data = []\n",
    "    for a in range(1, 10):\n",
    "        for N in range(1, 11):\n",
    "            K, k = cocient_fib_bounds(N, a)\n",
    "            \n",
    "            data.append([a, N, k.evalf(4), K.evalf(4)])\n",
    "    df = pd.DataFrame(data, columns=['a', 'N', 'k', 'K'])\n",
    "    # df.to_csv(path, index=False)\n",
    "        \n",
    "    return df\n",
    "\n",
    "\n",
    "bounds_df = table_bounds()\n",
    "bounds_df\n"
   ]
  },
  {
   "cell_type": "code",
   "execution_count": 12,
   "metadata": {},
   "outputs": [],
   "source": [
    "def round_up_to_nth_significant_figure(number: int | float, n: int) -> int | float:\n",
    "    '''\n",
    "    This function rounds a number up to the nth significant figure. To\n",
    "    do so, it calculates the first significant figure with logarithm\n",
    "    base 10. It then scales up the number to apply a ceiling function and\n",
    "    finally scales it back down.\n",
    "\n",
    "    Parameters:\n",
    "    - number: int|float\n",
    "    - n: int\n",
    "\n",
    "    Returns:\n",
    "    - int|float\n",
    "    '''\n",
    "    # Determine the scale factor\n",
    "    if number > 0:\n",
    "        exp = floor(log(number, 10).evalf()) - (n-1)\n",
    "        scale_factor = 10**(-exp)\n",
    "    else:\n",
    "        scale_factor = 0  # No scaling needed for zero\n",
    "    # Apply the ceiling function\n",
    "    rounded = ceiling(number * scale_factor) / scale_factor if scale_factor else number\n",
    "    return rounded\n",
    "\n",
    "def round_down_to_nth_significant_figure(number: int | float, n: int) -> int | float:\n",
    "    '''\n",
    "    This function rounds a number down to the nth significant figure. To\n",
    "    do so, it calculates the first significant figure with logarithm\n",
    "    base 10. It then scales up the number to apply a floor function and\n",
    "    finally scales it back down.\n",
    "\n",
    "    Parameters:\n",
    "    - number: int|float\n",
    "    - n: int\n",
    "    \n",
    "    Returns:\n",
    "    - int|float\n",
    "    '''\n",
    "    # Determine the scale factor\n",
    "    if number > 0:\n",
    "        exp = floor(log(number, 10).evalf()) - (n-1)\n",
    "        scale_factor = 10**(-exp)\n",
    "    else:\n",
    "        scale_factor = 0  # No scaling needed for zero\n",
    "    # Apply the ceiling function\n",
    "    rounded = floor(number * scale_factor) / scale_factor if scale_factor else number\n",
    "    return rounded\n"
   ]
  },
  {
   "cell_type": "markdown",
   "metadata": {},
   "source": [
    "### Specific cases for paper"
   ]
  },
  {
   "cell_type": "markdown",
   "metadata": {},
   "source": [
    "##### Lemma 4.9"
   ]
  },
  {
   "cell_type": "code",
   "execution_count": 27,
   "metadata": {},
   "outputs": [],
   "source": [
    "# Try different values for c\n",
    "c = 11\n",
    "significant_figures = 8\n",
    "x, y, z = symbols('x y z')"
   ]
  },
  {
   "cell_type": "code",
   "execution_count": 28,
   "metadata": {},
   "outputs": [
    {
     "name": "stdout",
     "output_type": "stream",
     "text": [
      "lo_bound1 = -0.067085236\n",
      "up_bound1 = -0.099800273\n"
     ]
    }
   ],
   "source": [
    "op = x**2 - 3*y\n",
    "\n",
    "# F(c-9) / F(c-1) => a = 8, N = c-9 | op >= low bound = min(x)^2 - 3*max(y)\n",
    "k, K = bounds_df.loc[(bounds_df['a'] == 8) & (bounds_df['N'] == c-9), ['k', 'K']].values[0]\n",
    "k = round_down_to_nth_significant_figure(k, significant_figures)\n",
    "K = round_up_to_nth_significant_figure(K, significant_figures)\n",
    "\n",
    "low_bound1 = op.subs({x: k, y: K}).evalf(significant_figures)\n",
    "low_bound1 = round_down_to_nth_significant_figure(low_bound1, significant_figures)\n",
    "print(f'lo_bound1 = {low_bound1}')\n",
    "\n",
    "\n",
    "# F(c-8) / F(c-1) => a = 7, N = c-8 | op <= up bound = max(x)^2 - 3*min(y)\n",
    "k, K = bounds_df.loc[(bounds_df['a'] == 7) & (bounds_df['N'] == c-8), ['k', 'K']].values[0]\n",
    "k = round_down_to_nth_significant_figure(k, significant_figures)\n",
    "K = round_up_to_nth_significant_figure(K, significant_figures)\n",
    "\n",
    "up_bound1 = op.subs({x: K, y: k}).evalf(significant_figures)\n",
    "up_bound1 = round_up_to_nth_significant_figure(up_bound1, significant_figures)\n",
    "print(f'up_bound1 = {up_bound1}')"
   ]
  },
  {
   "cell_type": "code",
   "execution_count": 29,
   "metadata": {},
   "outputs": [
    {
     "name": "stdout",
     "output_type": "stream",
     "text": [
      "up_bound2 = -0.089098229\n"
     ]
    }
   ],
   "source": [
    "op = -x*y + z\n",
    "\n",
    "# op <= up bound = -min(x)*min(y) + max(z)\n",
    "\n",
    "# F(c-4) / F(c-1) => a = 3, N = c-4\n",
    "k1 = bounds_df.loc[(bounds_df['a'] == 3) & (bounds_df['N'] == c-4), 'k'].values[0]\n",
    "k1 = round_down_to_nth_significant_figure(k1, significant_figures)\n",
    "\n",
    "\n",
    "# F(c-3) / F(c-1) => a = 2, N = c-3\n",
    "k2 = bounds_df.loc[(bounds_df['a'] == 2) & (bounds_df['N'] == c-3), 'k'].values[0]\n",
    "k2 = round_down_to_nth_significant_figure(k2, significant_figures)\n",
    "\n",
    "\n",
    "# z = 3 / F(c-1)**2\n",
    "z_val = 3 / fib(c-1)**2\n",
    "z_val = round_up_to_nth_significant_figure(z_val, significant_figures)\n",
    "\n",
    "up_bound2 = op.subs({x: k1, y: k2, z: z_val}).evalf(significant_figures)\n",
    "\n",
    "print(f'up_bound2 = {up_bound2}')"
   ]
  },
  {
   "cell_type": "code",
   "execution_count": 30,
   "metadata": {},
   "outputs": [
    {
     "name": "stdout",
     "output_type": "stream",
     "text": [
      "lo_bound2 = -0.091288686\n"
     ]
    }
   ],
   "source": [
    "op = -x*y - z\n",
    "\n",
    "# op >= low bound = -max(x)*max(y) - max(z)\n",
    "\n",
    "# F(c-4) / F(c-1) => a = 3, N = c-4\n",
    "K1 = bounds_df.loc[(bounds_df['a'] == 3) & (bounds_df['N'] == c-4), 'K'].values[0]\n",
    "K1 = round_up_to_nth_significant_figure(K1, significant_figures)\n",
    "\n",
    "\n",
    "# F(c-3) / F(c-1) => a = 2, N = c-3\n",
    "K2 = bounds_df.loc[(bounds_df['a'] == 2) & (bounds_df['N'] == c-3), 'K'].values[0]\n",
    "K2 = round_up_to_nth_significant_figure(K2, significant_figures)\n",
    "\n",
    "\n",
    "# z = 3 / F(c-1)**2\n",
    "\n",
    "z_val = 3 / fib(c-1)**2\n",
    "z_val = round_up_to_nth_significant_figure(z_val, significant_figures)\n",
    "\n",
    "low_bound2 = op.subs({x: K1, y: K2, z: z_val}).evalf(significant_figures)\n",
    "\n",
    "print(f'lo_bound2 = {low_bound2}')"
   ]
  },
  {
   "cell_type": "code",
   "execution_count": 31,
   "metadata": {},
   "outputs": [
    {
     "name": "stdout",
     "output_type": "stream",
     "text": [
      "lo_bound1 -0.067085236\n",
      "up_bound2 -0.089098229\n",
      "lo_bound2 -0.091288686\n",
      "up_bound1 -0.099800273\n"
     ]
    }
   ],
   "source": [
    "# Proof must be that lo_bound1 > up_bound2 >= lo_bound2 > up_bound1\n",
    "print(f'lo_bound1', low_bound1)\n",
    "print(f'up_bound2', up_bound2)\n",
    "print(f'lo_bound2', low_bound2)\n",
    "print(f'up_bound1', up_bound1)"
   ]
  }
 ],
 "metadata": {
  "kernelspec": {
   "display_name": "MTenv",
   "language": "python",
   "name": "python3"
  },
  "language_info": {
   "codemirror_mode": {
    "name": "ipython",
    "version": 3
   },
   "file_extension": ".py",
   "mimetype": "text/x-python",
   "name": "python",
   "nbconvert_exporter": "python",
   "pygments_lexer": "ipython3",
   "version": "3.11.0"
  }
 },
 "nbformat": 4,
 "nbformat_minor": 2
}
